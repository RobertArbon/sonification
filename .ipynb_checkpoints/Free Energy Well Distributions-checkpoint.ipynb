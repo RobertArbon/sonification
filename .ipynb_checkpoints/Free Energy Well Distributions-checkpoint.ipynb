{
 "cells": [
  {
   "cell_type": "code",
   "execution_count": 1,
   "metadata": {},
   "outputs": [],
   "source": [
    "import pyemma.coordinates as coor\n",
    "import pyemma.msm as msm\n",
    "import pyemma.plots as mplt"
   ]
  },
  {
   "cell_type": "code",
   "execution_count": 53,
   "metadata": {},
   "outputs": [],
   "source": [
    "from msmbuilder.featurizer import DihedralFeaturizer\n",
    "from msmbuilder.cluster import MiniBatchKMeans\n",
    "import mdtraj as md\n",
    "import seaborn as sns"
   ]
  },
  {
   "cell_type": "markdown",
   "metadata": {},
   "source": [
    "## Make HMM from MSM"
   ]
  },
  {
   "cell_type": "code",
   "execution_count": 3,
   "metadata": {},
   "outputs": [],
   "source": [
    "import matplotlib.pyplot as plt\n",
    "%matplotlib inline\n",
    "import numpy as np"
   ]
  },
  {
   "cell_type": "code",
   "execution_count": 4,
   "metadata": {},
   "outputs": [],
   "source": [
    "indir = './data/alanine_dipeptide'\n",
    "topfile =  indir+'/ala2.pdb'\n",
    "from glob import glob\n",
    "traj_list = glob(indir+'/trajectory-*.dcd')\n"
   ]
  },
  {
   "cell_type": "code",
   "execution_count": 5,
   "metadata": {},
   "outputs": [],
   "source": [
    "trajs = [md.load(traj_path, top=topfile) for traj_path in traj_list]"
   ]
  },
  {
   "cell_type": "code",
   "execution_count": 6,
   "metadata": {},
   "outputs": [],
   "source": [
    "ftrajs = DihedralFeaturizer(sincos=False).fit_transform(trajs)"
   ]
  },
  {
   "cell_type": "code",
   "execution_count": 7,
   "metadata": {},
   "outputs": [
    {
     "data": {
      "text/plain": [
       "(9999, 2)"
      ]
     },
     "execution_count": 7,
     "metadata": {},
     "output_type": "execute_result"
    }
   ],
   "source": [
    "ftrajs[0].shape"
   ]
  },
  {
   "cell_type": "code",
   "execution_count": 57,
   "metadata": {},
   "outputs": [
    {
     "name": "stderr",
     "output_type": "stream",
     "text": [
      "/Users/robert_arbon/anaconda/envs/ml4dyn/lib/python3.5/site-packages/sklearn/cluster/k_means_.py:1418: RuntimeWarning: init_size=300 should be larger than k=400. Setting it to 3*k\n",
      "  init_size=init_size)\n"
     ]
    }
   ],
   "source": [
    "cluster = MiniBatchKMeans(n_clusters=400)\n",
    "ctrajs = cluster.fit_transform(ftrajs)"
   ]
  },
  {
   "cell_type": "code",
   "execution_count": 10,
   "metadata": {},
   "outputs": [
    {
     "data": {
      "text/plain": [
       "400"
      ]
     },
     "execution_count": 10,
     "metadata": {},
     "output_type": "execute_result"
    }
   ],
   "source": [
    "msm_lag = 5\n",
    "M = msm.estimate_markov_model(ctrajs, msm_lag)\n",
    "len(M.active_set)"
   ]
  },
  {
   "cell_type": "code",
   "execution_count": 20,
   "metadata": {},
   "outputs": [
    {
     "name": "stdout",
     "output_type": "stream",
     "text": [
      "BIC/AIC not available for these constraints\n"
     ]
    }
   ],
   "source": [
    "n_sets=3\n",
    "HMM = M.coarse_grain(ncoarse=n_sets)"
   ]
  },
  {
   "cell_type": "code",
   "execution_count": 19,
   "metadata": {},
   "outputs": [
    {
     "data": {
      "text/plain": [
       "(400, 3)"
      ]
     },
     "execution_count": 19,
     "metadata": {},
     "output_type": "execute_result"
    }
   ],
   "source": [
    "membership = HMM.metastable_memberships\n",
    "membership.shape"
   ]
  },
  {
   "cell_type": "markdown",
   "metadata": {},
   "source": [
    "## Calculate hidden state probabilities"
   ]
  },
  {
   "cell_type": "code",
   "execution_count": 33,
   "metadata": {
    "scrolled": true
   },
   "outputs": [],
   "source": [
    "mem_trajs =  [[membership[:,i][dtraj][:, np.newaxis] for dtraj in HMM.discrete_trajectories_obs] for i in range(n_sets)]"
   ]
  },
  {
   "cell_type": "code",
   "execution_count": 34,
   "metadata": {},
   "outputs": [
    {
     "name": "stdout",
     "output_type": "stream",
     "text": [
      "traj  0\n",
      "traj  1\n",
      "traj  2\n",
      "traj  3\n",
      "traj  4\n",
      "traj  5\n",
      "traj  6\n",
      "traj  7\n",
      "traj  8\n",
      "traj  9\n"
     ]
    }
   ],
   "source": [
    "all_trajs = []\n",
    "for i in range(10):\n",
    "    print('traj ', i)\n",
    "    all_trajs.append(np.concatenate([mem_trajs[j][i] for j in range(n_sets)], axis=1))\n"
   ]
  },
  {
   "cell_type": "code",
   "execution_count": 48,
   "metadata": {},
   "outputs": [],
   "source": [
    "stat_dist = HMM.stationary_distribution_obs\n",
    "W = []\n",
    "for dtraj in HMM.discrete_trajectories_obs:\n",
    "    w = stat_dist[dtraj]\n",
    "    W.append(w)"
   ]
  },
  {
   "cell_type": "code",
   "execution_count": 49,
   "metadata": {},
   "outputs": [],
   "source": [
    "free_energy = -np.log(stat_dist)"
   ]
  },
  {
   "cell_type": "code",
   "execution_count": 50,
   "metadata": {},
   "outputs": [],
   "source": [
    "free_energy_by_state = [free_energy*membership[:,i] for i in range(n_sets)]"
   ]
  },
  {
   "cell_type": "code",
   "execution_count": 59,
   "metadata": {
    "scrolled": false
   },
   "outputs": [
    {
     "data": {
      "text/plain": [
       "<matplotlib.axes._subplots.AxesSubplot at 0x121f06908>"
      ]
     },
     "execution_count": 59,
     "metadata": {},
     "output_type": "execute_result"
    },
    {
     "data": {
      "image/png": "[encoded data removed]",
      "text/plain": [
       "<matplotlib.figure.Figure at 0x121e24588>"
      ]
     },
     "metadata": {},
     "output_type": "display_data"
    }
   ],
   "source": [
    "fig, axes = plt.subplots(n_sets)\n",
    "for i, ax in enumerate(axes):\n",
    "    sns.distplot(free_energy_by_state[2][np.where(free_energy_by_state[2]>1e-6)[0]])"
   ]
  },
  {
   "cell_type": "code",
   "execution_count": 58,
   "metadata": {},
   "outputs": [
    {
     "data": {
      "text/plain": [
       "array([6.24413139e+000, 6.08763888e-209, 3.56342688e+000, 1.27026160e-316,\n",
       "       9.66155254e-207, 5.73435343e+000, 5.55098420e+000, 4.32598712e-198,\n",
       "       1.07683424e-243, 6.87143200e+000, 1.07299550e-001, 5.55743333e+000,\n",
       "       8.64054995e-302, 6.25401669e+000, 5.26592337e+000, 0.00000000e+000,\n",
       "       5.85805014e+000, 2.47009099e-276, 7.74873616e-240, 4.89767875e-270,\n",
       "       6.62887036e+000, 6.81427359e+000, 2.31399656e-222, 6.63355027e+000,\n",
       "       6.38441702e+000, 3.74130423e-200, 6.29790778e+000, 6.13981854e+000,\n",
       "       6.08475876e+000, 1.15882044e-267, 7.36839033e-210, 4.94138089e-276,\n",
       "       1.04240773e+000, 6.48447503e+000, 5.58560817e+000, 3.24556918e-246,\n",
       "       8.84731074e-140, 6.85220837e-269, 5.93188441e+000, 1.91083020e-244,\n",
       "       1.94488905e-275, 2.91222547e-270, 4.23891385e-210, 0.00000000e+000,\n",
       "       2.04427396e-126, 4.90734368e-261, 5.16312518e+000, 6.13981854e+000,\n",
       "       0.00000000e+000, 6.51967107e+000, 6.40880848e+000, 9.31779264e-171,\n",
       "       5.26412456e-270, 5.40211873e-001, 3.55725422e-146, 0.00000000e+000,\n",
       "       8.30858554e-252, 0.00000000e+000, 5.74701183e+000, 6.07145480e+000,\n",
       "       5.35007556e+000, 1.86015953e-172, 6.54057776e+000, 6.60605568e+000,\n",
       "       1.17285606e-175, 6.22340525e+000, 5.13337671e+000, 0.00000000e+000,\n",
       "       2.75448886e-280, 6.37774343e+000, 6.91143733e+000, 7.04960268e-252,\n",
       "       5.74701183e+000, 2.96689251e-293, 6.31462126e+000, 8.76780845e-198,\n",
       "       5.88693302e+000, 1.34165041e-214, 6.11650746e+000, 6.40265461e+000,\n",
       "       6.50597223e+000, 2.02432148e-001, 5.67040471e+000, 5.92425078e+000,\n",
       "       5.90541783e+000, 6.40880848e+000, 1.10748809e-276, 3.21577496e+000,\n",
       "       6.53356018e+000, 1.04473732e-254, 5.65576316e+000, 5.26986814e+000,\n",
       "       5.80267267e+000, 5.46331859e+000, 5.73121371e+000, 1.04769592e-191,\n",
       "       5.55360544e+000, 6.67612325e+000, 8.31473493e-184, 0.00000000e+000,\n",
       "       5.56681567e+000, 9.77324538e-176, 2.26733260e-227, 6.60605568e+000,\n",
       "       3.57389825e-256, 4.29971561e-314, 2.55502055e-234, 0.00000000e+000,\n",
       "       1.03719550e-257, 5.97048254e-242, 6.14929728e+000, 4.89870325e+000,\n",
       "       1.29425999e-246, 2.19151243e-207, 7.41886737e+000, 5.49251775e+000,\n",
       "       1.81212098e-186, 1.39422559e-280, 5.97494390e+000, 6.13511265e+000,\n",
       "       6.72572019e+000, 7.67154950e-001, 6.20309999e+000, 9.99575831e-218,\n",
       "       5.91667499e+000, 5.36532189e-239, 1.69111326e-248, 7.91894441e-283,\n",
       "       6.33161884e+000, 3.25748616e-179, 6.16852864e+000, 6.13511265e+000,\n",
       "       6.06705918e+000, 1.01454672e-213, 6.14929728e+000, 6.48950627e+000,\n",
       "       6.11650746e+000, 1.11956094e-103, 4.64867916e-249, 6.04954920e-237,\n",
       "       6.04108370e+000, 0.00000000e+000, 5.34580204e+000, 5.31846070e+000,\n",
       "       3.82692056e-266, 5.65576316e+000, 6.07145480e+000, 1.15916758e-215,\n",
       "       0.00000000e+000, 6.69511123e+000, 8.17212071e-129, 5.54316148e+000,\n",
       "       5.48513764e+000, 5.99923659e+000, 8.45188238e+000, 2.52270853e-316,\n",
       "       0.00000000e+000, 2.93171507e-210, 2.00207959e-158, 6.99659514e+000,\n",
       "       5.96650869e-002, 1.62096619e-271, 5.82786448e+000, 7.59958355e-130,\n",
       "       2.97348460e-252, 4.87233959e+000, 1.64161090e-294, 7.60458451e+000,\n",
       "       1.08982741e-128, 6.15886673e+000, 6.33161884e+000, 1.16466150e-249,\n",
       "       7.60372430e-257, 6.26529620e+000, 1.06428149e-264, 2.00394992e-253,\n",
       "       6.36060638e+000, 5.82308155e+000, 7.48043113e-245, 3.57336123e-215,\n",
       "       6.65808975e-246, 6.60346004e+000, 5.89798285e+000, 1.01897334e-241,\n",
       "       8.04196755e-261, 6.56556062e-180, 1.14031787e-094, 7.99888755e-191,\n",
       "       5.80942946e+000, 6.14929728e+000, 5.56681567e+000, 0.00000000e+000,\n",
       "       5.82997812e+000, 5.81282505e+000, 6.59113003e+000, 2.23973313e-245,\n",
       "       5.73750304e+000, 6.54930635e-213, 6.65221773e+000, 7.18350008e-001,\n",
       "       0.00000000e+000, 0.00000000e+000, 6.15441776e-237, 6.34311322e+000,\n",
       "       6.35474126e+000, 1.02152291e-203, 2.36752213e-232, 1.77935030e-148,\n",
       "       4.50343854e-274, 5.99514660e+000, 6.75147268e+000, 2.38080685e-245,\n",
       "       0.00000000e+000, 6.06268281e+000, 6.11650746e+000, 4.29179702e-001,\n",
       "       5.78929455e+000, 5.90705049e+000, 5.23682335e+000, 5.24642957e+000,\n",
       "       1.16451399e-260, 2.69562393e-144, 1.04481717e-225, 4.59497532e-205,\n",
       "       6.18319883e+000, 1.66107837e-262, 6.79592445e+000, 5.82652389e+000,\n",
       "       1.00008384e-169, 3.48869346e-258, 1.83597033e-305, 5.93957675e+000,\n",
       "       4.65108276e-195, 5.96301532e+000, 6.72572019e+000, 3.00024935e-281,\n",
       "       1.12399453e-151, 5.63847166e+000, 6.13511265e+000, 7.71221518e+000,\n",
       "       5.40757636e-002, 5.52514297e+000, 6.28691866e+000, 5.85805014e+000,\n",
       "       6.61358587e+000, 3.74991210e-259, 2.32743701e-274, 7.00776844e+000,\n",
       "       2.88276666e-272, 7.84355500e-181, 1.22223427e-278, 2.99492454e-188,\n",
       "       5.62710790e+000, 5.76955707e+000, 5.73435343e+000, 6.12888970e+000,\n",
       "       9.84200454e-270, 5.73435343e+000, 5.02351673e-238, 5.05044061e-311,\n",
       "       5.35867776e+000, 2.78768471e-198, 1.21336430e-151, 1.38831263e-202,\n",
       "       5.30337760e-239, 2.64749853e-001, 4.69378175e-201, 5.75983252e+000,\n",
       "       5.15948309e-237, 4.69045841e-002, 6.23371462e+000, 5.86161521e+000,\n",
       "       5.37172142e+000, 8.17328934e-156, 6.62120749e+000, 0.00000000e+000,\n",
       "       6.27065814e+000, 2.74902168e-186, 6.19808745e+000, 6.56193088e+000,\n",
       "       1.66583721e-272, 5.86878370e+000, 6.69238377e+000, 1.10785715e-278,\n",
       "       0.00000000e+000, 5.66159408e+000, 5.40283504e+000, 5.76955707e+000,\n",
       "       6.22340525e+000, 1.47876046e-227, 5.18010188e+000, 5.97095187e+000,\n",
       "       7.97754923e-248, 1.05030700e-216, 5.90169343e+000, 6.08923304e+000,\n",
       "       4.32810965e-208, 3.44253072e-002, 6.85743635e-215, 0.00000000e+000,\n",
       "       5.63184740e-256, 1.38405742e-277, 2.12668793e-170, 4.25290367e-284,\n",
       "       2.28858338e-163, 5.93572318e+000, 1.65045934e-261, 5.51246853e+000,\n",
       "       6.10733308e+000, 0.00000000e+000, 1.13067312e-238, 5.61406517e-169,\n",
       "       5.42105878e+000, 6.26529620e+000, 5.52514297e+000, 5.21040672e+000,\n",
       "       5.85449774e+000, 5.86519303e+000, 6.27604899e+000, 0.00000000e+000,\n",
       "       3.41405129e-289, 5.96697573e+000, 5.57482639e+000, 3.14099035e-252,\n",
       "       5.75340163e+000, 6.71112383e-217, 6.15837273e-240, 6.79907965e+000,\n",
       "       1.65319732e-261, 5.75340163e+000, 4.88957844e-218, 2.44183794e-210,\n",
       "       6.38615800e+000, 3.89629198e-230, 6.25996285e+000, 3.25252624e-233,\n",
       "       5.48922563e-160, 3.64825903e-168, 6.66394286e-218, 5.88327671e+000,\n",
       "       1.73834527e-209, 5.90541783e+000, 6.11190975e+000, 5.55623356e+000,\n",
       "       9.49974630e-285, 2.22480938e-220, 5.99107328e+000, 6.37841100e+000,\n",
       "       0.00000000e+000, 6.45945221e+000, 9.79084673e-090, 6.62887036e+000,\n",
       "       6.05398710e+000, 5.49005165e+000, 1.09357791e-228, 6.13981854e+000,\n",
       "       5.74066260e+000, 7.38119575e-190, 0.00000000e+000, 7.66776342e+000,\n",
       "       5.66745920e+000, 1.23661752e-176, 5.93188441e+000, 5.92806031e+000,\n",
       "       6.24413139e+000, 5.73750304e+000, 1.58370272e-271, 5.47053884e+000,\n",
       "       0.00000000e+000, 5.68483038e+000, 6.44654881e+000, 5.94732873e+000,\n",
       "       6.33734951e+000, 1.02818657e-212, 6.99659514e+000, 6.27604899e+000,\n",
       "       6.10277727e+000, 3.65029947e-283, 5.90915615e+000, 8.27054369e-190,\n",
       "       6.75147268e+000, 6.15407056e+000, 6.59856501e+000, 0.00000000e+000,\n",
       "       0.00000000e+000, 7.20122671e-002, 5.95514127e+000, 5.70950743e+000,\n",
       "       6.56193088e+000, 5.73750304e+000, 1.31088225e-179, 0.00000000e+000,\n",
       "       4.61019075e-091, 6.13042880e+000, 6.12576678e+000, 1.45970135e-212,\n",
       "       1.04315989e-180, 4.06914754e-254, 3.23597299e-206, 6.39653839e+000])"
      ]
     },
     "execution_count": 58,
     "metadata": {},
     "output_type": "execute_result"
    }
   ],
   "source": [
    "free_energy_by_state[2]"
   ]
  },
  {
   "cell_type": "code",
   "execution_count": null,
   "metadata": {},
   "outputs": [],
   "source": []
  }
 ],
 "metadata": {
  "kernelspec": {
   "display_name": "Python 3",
   "language": "python",
   "name": "python3"
  },
  "language_info": {
   "codemirror_mode": {
    "name": "ipython",
    "version": 3
   },
   "file_extension": ".py",
   "mimetype": "text/x-python",
   "name": "python",
   "nbconvert_exporter": "python",
   "pygments_lexer": "ipython3",
   "version": "3.5.2"
  }
 },
 "nbformat": 4,
 "nbformat_minor": 2
}
