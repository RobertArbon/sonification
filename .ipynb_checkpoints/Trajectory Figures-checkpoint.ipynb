{
 "cells": [
  {
   "cell_type": "code",
   "execution_count": 10,
   "metadata": {},
   "outputs": [],
   "source": [
    "import numpy as np\n",
    "import mdtraj as md\n",
    "import pickle\n",
    "from os.path import join\n",
    "import matplotlib.pyplot as plt\n",
    "%matplotlib inline\n",
    "import mdtraj as md\n",
    "import seaborn as sns\n",
    "import matplotlib.gridspec as gridspec\n",
    "\n"
   ]
  },
  {
   "cell_type": "code",
   "execution_count": 4,
   "metadata": {},
   "outputs": [],
   "source": [
    "data_dir = 'Data/Chodera_data/Processed/'"
   ]
  },
  {
   "cell_type": "code",
   "execution_count": 19,
   "metadata": {},
   "outputs": [],
   "source": [
    "entropy = np.load(join(data_dir, 'shannon_entropy_traj_lag1.0ps.npy'))\n",
    "fast_modes = np.load(join(data_dir, 'fast_modes_lag1.0ps.npy'))\n",
    "hmm_traj = np.load(join(data_dir, 'probabilistic_traj_lag1.0ps.npy'))\n",
    "free_energy_traj = np.load(join(data_dir, 'free_energy_traj_lag1.0ps.npy'))\n",
    "time = np.arange(hmm_traj.shape[0])"
   ]
  },
  {
   "cell_type": "code",
   "execution_count": 27,
   "metadata": {},
   "outputs": [
    {
     "data": {
      "image/png": "[encoded data removed]",
      "text/plain": [
       "<matplotlib.figure.Figure at 0x11434de10>"
      ]
     },
     "metadata": {},
     "output_type": "display_data"
    }
   ],
   "source": [
    "\n",
    "n_sets = 4\n",
    "state_colours  = sns.color_palette('colorblind', n_sets)\n",
    "start, end, stride = 80000, 80100, 1\n",
    "\n",
    "with sns.plotting_context('talk', font_scale=1):\n",
    "    \n",
    "    # HMM Trajectories\n",
    "    gs1 = gridspec.GridSpec(n_sets, 1, hspace=0)\n",
    "    for state in range(n_sets):\n",
    "        ax = plt.subplot(gs1[state, :])\n",
    "        ax.plot(time[start:end:stride], hmm_traj[start:end:stride, state], color=state_colours[state])\n",
    "        ax.set_ylim((-0.2, 1.2))"
   ]
  },
  {
   "cell_type": "code",
   "execution_count": null,
   "metadata": {},
   "outputs": [],
   "source": []
  }
 ],
 "metadata": {
  "kernelspec": {
   "display_name": "Python 3",
   "language": "python",
   "name": "python3"
  },
  "language_info": {
   "codemirror_mode": {
    "name": "ipython",
    "version": 3
   },
   "file_extension": ".py",
   "mimetype": "text/x-python",
   "name": "python",
   "nbconvert_exporter": "python",
   "pygments_lexer": "ipython3",
   "version": "3.5.4"
  }
 },
 "nbformat": 4,
 "nbformat_minor": 2
}
