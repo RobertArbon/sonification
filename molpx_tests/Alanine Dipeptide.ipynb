{
 "cells": [
  {
   "cell_type": "code",
   "execution_count": 1,
   "metadata": {},
   "outputs": [],
   "source": [
    "import mdtraj as md\n",
    "import molpx\n",
    "import numpy as np\n",
    "%matplotlib ipympl"
   ]
  },
  {
   "cell_type": "code",
   "execution_count": 2,
   "metadata": {},
   "outputs": [],
   "source": [
    "traj = md.load('../Data/alanine_dipeptide/trajectory-0.dcd', top='../Data/alanine_dipeptide/ala2.pdb')\n",
    "proj = np.load('../ala-dihed.npy')"
   ]
  },
  {
   "cell_type": "code",
   "execution_count": 3,
   "metadata": {},
   "outputs": [
    {
     "name": "stdout",
     "output_type": "stream",
     "text": [
      "(9999, 2)\n",
      "<mdtraj.Trajectory with 9999 frames, 22 atoms, 3 residues, without unitcells>\n"
     ]
    }
   ],
   "source": [
    "print(proj.shape)\n",
    "print(traj)"
   ]
  },
  {
   "cell_type": "code",
   "execution_count": 5,
   "metadata": {
    "scrolled": true
   },
   "outputs": [
    {
     "name": "stdout",
     "output_type": "stream",
     "text": [
      "12-01-18 21:34:50 pyemma.coordinates.clustering.regspace.RegularSpaceClustering[1] WARNING  Maximum number of cluster centers reached. Consider increasing max_centers or choose a larger minimum distance, dmin.\n",
      "12-01-18 21:34:50 pyemma.coordinates.clustering.regspace.RegularSpaceClustering[1] INFO     Presumably finished estimation. Message: Used data for centers: 100.00%\n",
      "12-01-18 21:34:50 pyemma.coordinates.clustering.regspace.RegularSpaceClustering[2] WARNING  Maximum number of cluster centers reached. Consider increasing max_centers or choose a larger minimum distance, dmin.\n",
      "12-01-18 21:34:50 pyemma.coordinates.clustering.regspace.RegularSpaceClustering[2] INFO     Presumably finished estimation. Message: Used data for centers: 100.00%\n",
      "12-01-18 21:34:50 pyemma.coordinates.clustering.regspace.RegularSpaceClustering[3] WARNING  Maximum number of cluster centers reached. Consider increasing max_centers or choose a larger minimum distance, dmin.\n",
      "12-01-18 21:34:50 pyemma.coordinates.clustering.regspace.RegularSpaceClustering[3] INFO     Presumably finished estimation. Message: Used data for centers: 100.00%\n"
     ]
    },
    {
     "name": "stderr",
     "output_type": "stream",
     "text": [
      "/Users/robert_arbon/anaconda/envs/sonification/lib/python3.5/site-packages/pyEMMA-2.4-py3.5-macosx-10.9-x86_64.egg/pyemma/coordinates/clustering/regspace.py:151: UserWarning: Maximum number of cluster centers reached. Consider increasing max_centers or choose a larger minimum distance, dmin.\n",
      "  warnings.warn(msg)\n",
      "/Users/robert_arbon/anaconda/envs/sonification/lib/python3.5/site-packages/pyEMMA-2.4-py3.5-macosx-10.9-x86_64.egg/pyemma/coordinates/clustering/regspace.py:151: UserWarning: Maximum number of cluster centers reached. Consider increasing max_centers or choose a larger minimum distance, dmin.\n",
      "  warnings.warn(msg)\n",
      "/Users/robert_arbon/anaconda/envs/sonification/lib/python3.5/site-packages/pyEMMA-2.4-py3.5-macosx-10.9-x86_64.egg/pyemma/coordinates/clustering/regspace.py:151: UserWarning: Maximum number of cluster centers reached. Consider increasing max_centers or choose a larger minimum distance, dmin.\n",
      "  warnings.warn(msg)\n"
     ]
    },
    {
     "name": "stdout",
     "output_type": "stream",
     "text": [
      "12-01-18 21:34:50 pyemma.coordinates.clustering.regspace.RegularSpaceClustering[4] WARNING  Maximum number of cluster centers reached. Consider increasing max_centers or choose a larger minimum distance, dmin.\n",
      "12-01-18 21:34:50 pyemma.coordinates.clustering.regspace.RegularSpaceClustering[4] INFO     Presumably finished estimation. Message: Used data for centers: 100.00%\n",
      "12-01-18 21:34:50 pyemma.coordinates.clustering.regspace.RegularSpaceClustering[5] WARNING  Maximum number of cluster centers reached. Consider increasing max_centers or choose a larger minimum distance, dmin.\n",
      "12-01-18 21:34:50 pyemma.coordinates.clustering.regspace.RegularSpaceClustering[5] INFO     Presumably finished estimation. Message: Used data for centers: 100.00%\n",
      "12-01-18 21:34:50 pyemma.coordinates.clustering.regspace.RegularSpaceClustering[6] WARNING  Maximum number of cluster centers reached. Consider increasing max_centers or choose a larger minimum distance, dmin.\n",
      "12-01-18 21:34:50 pyemma.coordinates.clustering.regspace.RegularSpaceClustering[6] INFO     Presumably finished estimation. Message: Used data for centers: 100.00%\n"
     ]
    },
    {
     "name": "stderr",
     "output_type": "stream",
     "text": [
      "/Users/robert_arbon/anaconda/envs/sonification/lib/python3.5/site-packages/pyEMMA-2.4-py3.5-macosx-10.9-x86_64.egg/pyemma/coordinates/clustering/regspace.py:151: UserWarning: Maximum number of cluster centers reached. Consider increasing max_centers or choose a larger minimum distance, dmin.\n",
      "  warnings.warn(msg)\n",
      "/Users/robert_arbon/anaconda/envs/sonification/lib/python3.5/site-packages/pyEMMA-2.4-py3.5-macosx-10.9-x86_64.egg/pyemma/coordinates/clustering/regspace.py:151: UserWarning: Maximum number of cluster centers reached. Consider increasing max_centers or choose a larger minimum distance, dmin.\n",
      "  warnings.warn(msg)\n",
      "/Users/robert_arbon/anaconda/envs/sonification/lib/python3.5/site-packages/pyEMMA-2.4-py3.5-macosx-10.9-x86_64.egg/pyemma/coordinates/clustering/regspace.py:151: UserWarning: Maximum number of cluster centers reached. Consider increasing max_centers or choose a larger minimum distance, dmin.\n",
      "  warnings.warn(msg)\n"
     ]
    },
    {
     "name": "stdout",
     "output_type": "stream",
     "text": [
      "12-01-18 21:34:50 pyemma.coordinates.clustering.regspace.RegularSpaceClustering[7] WARNING  Maximum number of cluster centers reached. Consider increasing max_centers or choose a larger minimum distance, dmin.\n",
      "12-01-18 21:34:50 pyemma.coordinates.clustering.regspace.RegularSpaceClustering[7] INFO     Presumably finished estimation. Message: Used data for centers: 100.00%\n",
      "12-01-18 21:34:50 pyemma.coordinates.clustering.regspace.RegularSpaceClustering[8] WARNING  Maximum number of cluster centers reached. Consider increasing max_centers or choose a larger minimum distance, dmin.\n",
      "12-01-18 21:34:50 pyemma.coordinates.clustering.regspace.RegularSpaceClustering[8] INFO     Presumably finished estimation. Message: Used data for centers: 100.00%\n"
     ]
    },
    {
     "name": "stderr",
     "output_type": "stream",
     "text": [
      "/Users/robert_arbon/anaconda/envs/sonification/lib/python3.5/site-packages/pyEMMA-2.4-py3.5-macosx-10.9-x86_64.egg/pyemma/coordinates/clustering/regspace.py:151: UserWarning: Maximum number of cluster centers reached. Consider increasing max_centers or choose a larger minimum distance, dmin.\n",
      "  warnings.warn(msg)\n",
      "/Users/robert_arbon/anaconda/envs/sonification/lib/python3.5/site-packages/pyEMMA-2.4-py3.5-macosx-10.9-x86_64.egg/pyemma/coordinates/clustering/regspace.py:151: UserWarning: Maximum number of cluster centers reached. Consider increasing max_centers or choose a larger minimum distance, dmin.\n",
      "  warnings.warn(msg)\n"
     ]
    },
    {
     "name": "stdout",
     "output_type": "stream",
     "text": [
      "12-01-18 21:34:51 pyemma.coordinates.clustering.regspace.RegularSpaceClustering[9] WARNING  Maximum number of cluster centers reached. Consider increasing max_centers or choose a larger minimum distance, dmin.\n",
      "12-01-18 21:34:51 pyemma.coordinates.clustering.regspace.RegularSpaceClustering[9] INFO     Presumably finished estimation. Message: Used data for centers: 100.00%\n",
      "12-01-18 21:34:51 pyemma.coordinates.clustering.regspace.RegularSpaceClustering[10] WARNING  Maximum number of cluster centers reached. Consider increasing max_centers or choose a larger minimum distance, dmin.\n",
      "12-01-18 21:34:51 pyemma.coordinates.clustering.regspace.RegularSpaceClustering[10] INFO     Presumably finished estimation. Message: Used data for centers: 100.00%\n"
     ]
    },
    {
     "name": "stderr",
     "output_type": "stream",
     "text": [
      "/Users/robert_arbon/anaconda/envs/sonification/lib/python3.5/site-packages/pyEMMA-2.4-py3.5-macosx-10.9-x86_64.egg/pyemma/coordinates/clustering/regspace.py:151: UserWarning: Maximum number of cluster centers reached. Consider increasing max_centers or choose a larger minimum distance, dmin.\n",
      "  warnings.warn(msg)\n",
      "/Users/robert_arbon/anaconda/envs/sonification/lib/python3.5/site-packages/pyEMMA-2.4-py3.5-macosx-10.9-x86_64.egg/pyemma/coordinates/clustering/regspace.py:151: UserWarning: Maximum number of cluster centers reached. Consider increasing max_centers or choose a larger minimum distance, dmin.\n",
      "  warnings.warn(msg)\n"
     ]
    },
    {
     "name": "stdout",
     "output_type": "stream",
     "text": [
      "12-01-18 21:34:51 pyemma.coordinates.clustering.regspace.RegularSpaceClustering[11] WARNING  Maximum number of cluster centers reached. Consider increasing max_centers or choose a larger minimum distance, dmin.\n",
      "12-01-18 21:34:51 pyemma.coordinates.clustering.regspace.RegularSpaceClustering[11] INFO     Presumably finished estimation. Message: Used data for centers: 100.00%\n",
      "12-01-18 21:34:51 pyemma.coordinates.clustering.regspace.RegularSpaceClustering[11] WARNING  Maximum number of cluster centers reached. Consider increasing max_centers or choose a larger minimum distance, dmin.\n",
      "12-01-18 21:34:51 pyemma.coordinates.clustering.regspace.RegularSpaceClustering[11] INFO     Presumably finished estimation. Message: Used data for centers: 100.00%\n"
     ]
    },
    {
     "name": "stderr",
     "output_type": "stream",
     "text": [
      "/Users/robert_arbon/anaconda/envs/sonification/lib/python3.5/site-packages/pyEMMA-2.4-py3.5-macosx-10.9-x86_64.egg/pyemma/coordinates/clustering/regspace.py:151: UserWarning: Maximum number of cluster centers reached. Consider increasing max_centers or choose a larger minimum distance, dmin.\n",
      "  warnings.warn(msg)\n",
      "/Users/robert_arbon/anaconda/envs/sonification/lib/python3.5/site-packages/pyEMMA-2.4-py3.5-macosx-10.9-x86_64.egg/pyemma/coordinates/clustering/regspace.py:151: UserWarning: Maximum number of cluster centers reached. Consider increasing max_centers or choose a larger minimum distance, dmin.\n",
      "  warnings.warn(msg)\n",
      "/Users/robert_arbon/anaconda/envs/sonification/lib/python3.5/site-packages/mdtraj/core/trajectory.py:1858: RuntimeWarning: invalid value encountered in less\n",
      "  if self.unitcell_lengths is not None and np.any(self.unitcell_lengths < 0):\n",
      "/Users/robert_arbon/anaconda/envs/sonification/lib/python3.5/site-packages/mdtraj/core/trajectory.py:1861: RuntimeWarning: invalid value encountered in less\n",
      "  if self.unitcell_angles is not None and np.any(self.unitcell_angles < 0):\n"
     ]
    },
    {
     "data": {
      "application/vnd.jupyter.widget-view+json": {
       "model_id": "a5a6d240754f485392dcf71877dfe328",
       "version_major": 2,
       "version_minor": 0
      },
      "text/plain": [
       "A Jupyter Widget"
      ]
     },
     "metadata": {},
     "output_type": "display_data"
    }
   ],
   "source": [
    "box = molpx.visualize.FES(MD_trajectories='../Data/alanine_dipeptide/trajectory-0.dcd',\n",
    "                                                  MD_top='../Data/alanine_dipeptide/ala2.pdb',\n",
    "                                                 projected_trajectories=proj, \n",
    "                                                 n_sample=9999)\n",
    "box"
   ]
  },
  {
   "cell_type": "code",
   "execution_count": null,
   "metadata": {},
   "outputs": [],
   "source": []
  }
 ],
 "metadata": {
  "kernelspec": {
   "display_name": "Python 3",
   "language": "python",
   "name": "python3"
  },
  "language_info": {
   "codemirror_mode": {
    "name": "ipython",
    "version": 3
   },
   "file_extension": ".py",
   "mimetype": "text/x-python",
   "name": "python",
   "nbconvert_exporter": "python",
   "pygments_lexer": "ipython3",
   "version": "3.5.4"
  }
 },
 "nbformat": 4,
 "nbformat_minor": 2
}
