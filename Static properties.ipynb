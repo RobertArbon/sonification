{
 "cells": [
  {
   "cell_type": "code",
   "execution_count": 2,
   "metadata": {},
   "outputs": [],
   "source": [
    "import pyemma.coordinates as coor\n",
    "import pyemma.msm as msm\n",
    "import pyemma.plots as mplt"
   ]
  },
  {
   "cell_type": "code",
   "execution_count": 3,
   "metadata": {},
   "outputs": [],
   "source": [
    "import mdtraj as md\n",
    "import seaborn as sns"
   ]
  },
  {
   "cell_type": "markdown",
   "metadata": {},
   "source": [
    "## Load HMM"
   ]
  },
  {
   "cell_type": "code",
   "execution_count": 4,
   "metadata": {},
   "outputs": [],
   "source": [
    "import matplotlib.pyplot as plt\n",
    "%matplotlib inline\n",
    "import numpy as np\n",
    "import pickle"
   ]
  },
  {
   "cell_type": "code",
   "execution_count": 5,
   "metadata": {},
   "outputs": [],
   "source": [
    "from scipy.stats import skew, kurtosis"
   ]
  },
  {
   "cell_type": "code",
   "execution_count": 6,
   "metadata": {},
   "outputs": [],
   "source": [
    "HMM = pickle.load(open('Data/Chodera_data/Processed/HMM_lag1.0.pickle', 'rb'))"
   ]
  },
  {
   "cell_type": "code",
   "execution_count": 7,
   "metadata": {},
   "outputs": [],
   "source": [
    "stat_dist = HMM.stationary_distribution_obs"
   ]
  },
  {
   "cell_type": "code",
   "execution_count": 37,
   "metadata": {},
   "outputs": [],
   "source": [
    "membership = HMM.metastable_assignments\n",
    "n_sets = HMM.nstates"
   ]
  },
  {
   "cell_type": "markdown",
   "metadata": {},
   "source": [
    "## Calculate scaled free energy "
   ]
  },
  {
   "cell_type": "code",
   "execution_count": 42,
   "metadata": {},
   "outputs": [],
   "source": [
    "free_energy = -np.log(stat_dist)\n",
    "from sklearn.preprocessing import MinMaxScaler\n",
    "scaler = MinMaxScaler(feature_range=(0,1))\n",
    "free_energy_scaled = scaler.fit_transform(free_energy[:, np.newaxis])"
   ]
  },
  {
   "cell_type": "code",
   "execution_count": 43,
   "metadata": {},
   "outputs": [],
   "source": [
    "stat_dist_by_state = [stat_dist[np.where(membership==i)[0]] for i in range(n_sets)]\n",
    "free_energy_by_state = [free_energy_scaled[np.where(membership==i)[0]] for i in range(n_sets)]"
   ]
  },
  {
   "cell_type": "code",
   "execution_count": 45,
   "metadata": {},
   "outputs": [
    {
     "data": {
      "text/plain": [
       "[332.66772843538098,\n",
       " 676.98751182944409,\n",
       " 1075.3398124079658,\n",
       " 1453.0340247313493]"
      ]
     },
     "execution_count": 45,
     "metadata": {},
     "output_type": "execute_result"
    }
   ],
   "source": [
    "volume_by_state = [np.sum(free_energy[np.where(membership==i)[0]]) for i in range(n_sets)]"
   ]
  },
  {
   "cell_type": "code",
   "execution_count": 40,
   "metadata": {},
   "outputs": [
    {
     "data": {
      "image/png": "[encoded data removed]",
      "text/plain": [
       "<matplotlib.figure.Figure at 0x1148572e8>"
      ]
     },
     "metadata": {},
     "output_type": "display_data"
    }
   ],
   "source": [
    "fig, axes = plt.subplots(n_sets, sharex=True, sharey=True, figsize=(5,10))\n",
    "tol = 1e-7\n",
    "for i, ax in enumerate(axes):\n",
    "#     ax.hist(free_energy_by_state[i], bins=10)\n",
    "    sns.distplot(free_energy_by_state[i], ax=ax, kde=False)"
   ]
  },
  {
   "cell_type": "markdown",
   "metadata": {},
   "source": [
    "## Calculate properties"
   ]
  },
  {
   "cell_type": "code",
   "execution_count": 47,
   "metadata": {},
   "outputs": [
    {
     "data": {
      "text/plain": [
       "{'kurtosis': [0.36622107154810202,\n",
       "  2.6875545353416799,\n",
       "  0.7540433289221129,\n",
       "  2.4517363862443888],\n",
       " 'max': [0.91288394444303023,\n",
       "  0.99999999999999989,\n",
       "  0.63468555834230889,\n",
       "  0.52686116490710477],\n",
       " 'mean': [0.64755935327586922,\n",
       "  0.67042194248257503,\n",
       "  0.31152795214688855,\n",
       "  0.11757398897295078],\n",
       " 'min': [0.28095960464154757, 0.56550951700446761, 0.16381707010746593, 0.0],\n",
       " 'skew': [-0.19540249659778985,\n",
       "  1.3696788462249863,\n",
       "  0.45748432904737513,\n",
       "  1.2553101419550896],\n",
       " 'std': [0.13606421114774128,\n",
       "  0.082602401853688223,\n",
       "  0.078843010510317252,\n",
       "  0.082516293660893997],\n",
       " 'volume': [332.66772843538098,\n",
       "  676.98751182944409,\n",
       "  1075.3398124079658,\n",
       "  1453.0340247313493]}"
      ]
     },
     "execution_count": 47,
     "metadata": {},
     "output_type": "execute_result"
    }
   ],
   "source": [
    "properties = {}\n",
    "properties['mean'] = [np.mean(x) for x in free_energy_by_state]\n",
    "properties['max'] = [np.max(x) for x in free_energy_by_state]\n",
    "properties['min'] = [np.min(x) for x in free_energy_by_state]\n",
    "properties['std'] = [np.std(x) for x in free_energy_by_state]\n",
    "properties['skew'] = [skew(x)[0] for x in free_energy_by_state]\n",
    "properties['kurtosis'] = [kurtosis(x)[0] for x in free_energy_by_state]\n",
    "properties['volume'] = volume_by_state\n",
    "properties"
   ]
  },
  {
   "cell_type": "code",
   "execution_count": 48,
   "metadata": {},
   "outputs": [
    {
     "data": {
      "text/plain": [
       "{'kurtosis': [0.0, 1.0, 0.16706874019737891, 0.89841263533421378],\n",
       " 'max': [0.81587633672077353, 0.99999999999999978, 0.22789165766541664, 0.0],\n",
       " 'mean': [0.95864579209967582, 1.0, 0.35082695331088232, 0.0],\n",
       " 'min': [0.49682559920442143, 1.0, 0.2896804831423761, 0.0],\n",
       " 'skew': [0.0, 1.0, 0.4171583979575274, 0.92692475391494888],\n",
       " 'std': [1.0000000000000002, 0.065699274071369995, 0.0, 0.064194443836509407],\n",
       " 'volume': [0.0, 0.30732786637050336, 0.66288327882401099, 1.0]}"
      ]
     },
     "execution_count": 48,
     "metadata": {},
     "output_type": "execute_result"
    }
   ],
   "source": [
    "scaled_properties = {}\n",
    "for k, v in properties.items():\n",
    "    scaled_properties[k] = [x[0] for x in scaler.fit_transform(np.array(v).reshape(-1,1))]\n",
    "    \n",
    "scaled_properties"
   ]
  },
  {
   "cell_type": "code",
   "execution_count": 50,
   "metadata": {},
   "outputs": [
    {
     "data": {
      "text/plain": [
       "{'kurtosis': [0.13626554056196774,\n",
       "  1.0,\n",
       "  0.28056856856534385,\n",
       "  0.91225549249466276],\n",
       " 'max': [0.91288394444303034, 1.0, 0.634685558342309, 0.52686116490710488],\n",
       " 'mean': [0.96589820863850973, 1.0, 0.46467445709384059, 0.17537312179487122],\n",
       " 'min': [0.49682559920442143, 1.0, 0.2896804831423761, 0.0],\n",
       " 'skew': [-0.14266300245224978, 1.0, 0.3340084650560689, 0.91649961990351847],\n",
       " 'std': [1.0, 0.60708397275751558, 0.57945443438251309, 0.60645112307523785],\n",
       " 'volume': [0.22894696392046823, 0.46591304835728947, 0.7400651286240767, 1.0]}"
      ]
     },
     "execution_count": 50,
     "metadata": {},
     "output_type": "execute_result"
    }
   ],
   "source": [
    "scaled_properties = {}\n",
    "for k, v in properties.items():\n",
    "    signs = np.sign(v)\n",
    "    v = np.abs(v)\n",
    "    scaled_v = np.array(v)/np.max(v)\n",
    "    scaled_v = scaled_v*signs\n",
    "    scaled_properties[k] = list(scaled_v)\n",
    "scaled_properties"
   ]
  },
  {
   "cell_type": "code",
   "execution_count": 53,
   "metadata": {},
   "outputs": [],
   "source": [
    "pickle.dump(scaled_properties, open('Data/Chodera_data/Processed/static_properties_max_scale.pickle', 'wb'))"
   ]
  },
  {
   "cell_type": "code",
   "execution_count": null,
   "metadata": {},
   "outputs": [],
   "source": []
  }
 ],
 "metadata": {
  "kernelspec": {
   "display_name": "Python 3",
   "language": "python",
   "name": "python3"
  },
  "language_info": {
   "codemirror_mode": {
    "name": "ipython",
    "version": 3
   },
   "file_extension": ".py",
   "mimetype": "text/x-python",
   "name": "python",
   "nbconvert_exporter": "python",
   "pygments_lexer": "ipython3",
   "version": "3.5.4"
  }
 },
 "nbformat": 4,
 "nbformat_minor": 2
}
