{
 "cells": [
  {
   "cell_type": "code",
   "execution_count": 20,
   "metadata": {
    "collapsed": true
   },
   "outputs": [],
   "source": [
    "import mdtraj as md\n",
    "from msmbuilder.featurizer import DihedralFeaturizer\n",
    "import matplotlib.pyplot as plt\n",
    "%matplotlib inline\n",
    "import numpy as np"
   ]
  },
  {
   "cell_type": "code",
   "execution_count": 4,
   "metadata": {
    "collapsed": false
   },
   "outputs": [],
   "source": [
    "from msmbuilder.example_datasets import AlanineDipeptide, fetch_alanine_dipeptide"
   ]
  },
  {
   "cell_type": "code",
   "execution_count": 7,
   "metadata": {
    "collapsed": false
   },
   "outputs": [
    {
     "name": "stdout",
     "output_type": "stream",
     "text": [
      "alanine_dipeptide already is cached\n"
     ]
    },
    {
     "data": {
      "text/plain": [
       "{'DESCR': 'The dataset consists of ten 10ns trajectories of of alanine dipeptide,\\nsimulated using OpenMM 6.0.1 (CUDA platform, NVIDIA GTX660) with the\\nAMBER99SB-ILDN force field at 300K (langevin dynamics, friction coefficient\\nof 91/ps, timestep of 2fs) with GBSA implicit solvent. The coordinates are\\nsaved every 1ps. Each trajectory contains 9,999 snapshots.\\n\\nThe dataset, including the script used to generate the dataset\\nis available on figshare at\\n\\nhttp://dx.doi.org/10.6084/m9.figshare.1026131\\n',\n",
       " 'trajectories': [<mdtraj.Trajectory with 9999 frames, 22 atoms, 3 residues, without unitcells at 0x1151d7a90>,\n",
       "  <mdtraj.Trajectory with 10000 frames, 22 atoms, 3 residues, without unitcells at 0x1151d7d30>,\n",
       "  <mdtraj.Trajectory with 10000 frames, 22 atoms, 3 residues, without unitcells at 0x1151d7eb8>,\n",
       "  <mdtraj.Trajectory with 10000 frames, 22 atoms, 3 residues, without unitcells at 0x1151d7c50>,\n",
       "  <mdtraj.Trajectory with 10000 frames, 22 atoms, 3 residues, without unitcells at 0x1151d7b38>,\n",
       "  <mdtraj.Trajectory with 10000 frames, 22 atoms, 3 residues, without unitcells at 0x1151d7e80>,\n",
       "  <mdtraj.Trajectory with 10000 frames, 22 atoms, 3 residues, without unitcells at 0x115115898>,\n",
       "  <mdtraj.Trajectory with 10000 frames, 22 atoms, 3 residues, without unitcells at 0x1151da8d0>,\n",
       "  <mdtraj.Trajectory with 10000 frames, 22 atoms, 3 residues, without unitcells at 0x1151dabe0>,\n",
       "  <mdtraj.Trajectory with 10000 frames, 22 atoms, 3 residues, without unitcells at 0x1151da400>]}"
      ]
     },
     "execution_count": 7,
     "metadata": {},
     "output_type": "execute_result"
    }
   ],
   "source": [
    "fetch_alanine_dipeptide('.')"
   ]
  },
  {
   "cell_type": "code",
   "execution_count": 11,
   "metadata": {
    "collapsed": false
   },
   "outputs": [],
   "source": [
    "traj = md.load('alanine_dipeptide/trajectory-0.dcd', top='alanine_dipeptide/ala2.pdb')"
   ]
  },
  {
   "cell_type": "code",
   "execution_count": 12,
   "metadata": {
    "collapsed": true
   },
   "outputs": [],
   "source": [
    "top = traj.topology"
   ]
  },
  {
   "cell_type": "code",
   "execution_count": 16,
   "metadata": {
    "collapsed": false
   },
   "outputs": [],
   "source": [
    "traj_array = traj.xyz.reshape(-1, traj.xyz.shape[1]*traj.xyz.shape[2])"
   ]
  },
  {
   "cell_type": "code",
   "execution_count": 19,
   "metadata": {
    "collapsed": false
   },
   "outputs": [
    {
     "data": {
      "text/plain": [
       "(9999, 66)"
      ]
     },
     "execution_count": 19,
     "metadata": {},
     "output_type": "execute_result"
    }
   ],
   "source": [
    "traj_array.shape"
   ]
  },
  {
   "cell_type": "code",
   "execution_count": 21,
   "metadata": {
    "collapsed": true
   },
   "outputs": [],
   "source": [
    "np.save('ala-0.npy', traj_array)"
   ]
  },
  {
   "cell_type": "code",
   "execution_count": 22,
   "metadata": {
    "collapsed": true
   },
   "outputs": [],
   "source": [
    "heavy = top.select(\"name =~ '[^H].*'\")"
   ]
  },
  {
   "cell_type": "code",
   "execution_count": 25,
   "metadata": {
    "collapsed": false
   },
   "outputs": [
    {
     "data": {
      "text/html": [
       "<div>\n",
       "<style>\n",
       "    .dataframe thead tr:only-child th {\n",
       "        text-align: right;\n",
       "    }\n",
       "\n",
       "    .dataframe thead th {\n",
       "        text-align: left;\n",
       "    }\n",
       "\n",
       "    .dataframe tbody tr th {\n",
       "        vertical-align: top;\n",
       "    }\n",
       "</style>\n",
       "<table border=\"1\" class=\"dataframe\">\n",
       "  <thead>\n",
       "    <tr style=\"text-align: right;\">\n",
       "      <th></th>\n",
       "      <th>serial</th>\n",
       "      <th>name</th>\n",
       "      <th>element</th>\n",
       "      <th>resSeq</th>\n",
       "      <th>resName</th>\n",
       "      <th>chainID</th>\n",
       "      <th>segmentID</th>\n",
       "    </tr>\n",
       "  </thead>\n",
       "  <tbody>\n",
       "    <tr>\n",
       "      <th>0</th>\n",
       "      <td>1</td>\n",
       "      <td>H1</td>\n",
       "      <td>H</td>\n",
       "      <td>1</td>\n",
       "      <td>ACE</td>\n",
       "      <td>0</td>\n",
       "      <td></td>\n",
       "    </tr>\n",
       "    <tr>\n",
       "      <th>1</th>\n",
       "      <td>2</td>\n",
       "      <td>CH3</td>\n",
       "      <td>C</td>\n",
       "      <td>1</td>\n",
       "      <td>ACE</td>\n",
       "      <td>0</td>\n",
       "      <td></td>\n",
       "    </tr>\n",
       "    <tr>\n",
       "      <th>2</th>\n",
       "      <td>3</td>\n",
       "      <td>H2</td>\n",
       "      <td>H</td>\n",
       "      <td>1</td>\n",
       "      <td>ACE</td>\n",
       "      <td>0</td>\n",
       "      <td></td>\n",
       "    </tr>\n",
       "    <tr>\n",
       "      <th>3</th>\n",
       "      <td>4</td>\n",
       "      <td>H3</td>\n",
       "      <td>H</td>\n",
       "      <td>1</td>\n",
       "      <td>ACE</td>\n",
       "      <td>0</td>\n",
       "      <td></td>\n",
       "    </tr>\n",
       "    <tr>\n",
       "      <th>4</th>\n",
       "      <td>5</td>\n",
       "      <td>C</td>\n",
       "      <td>C</td>\n",
       "      <td>1</td>\n",
       "      <td>ACE</td>\n",
       "      <td>0</td>\n",
       "      <td></td>\n",
       "    </tr>\n",
       "    <tr>\n",
       "      <th>5</th>\n",
       "      <td>6</td>\n",
       "      <td>O</td>\n",
       "      <td>O</td>\n",
       "      <td>1</td>\n",
       "      <td>ACE</td>\n",
       "      <td>0</td>\n",
       "      <td></td>\n",
       "    </tr>\n",
       "    <tr>\n",
       "      <th>6</th>\n",
       "      <td>7</td>\n",
       "      <td>N</td>\n",
       "      <td>N</td>\n",
       "      <td>2</td>\n",
       "      <td>ALA</td>\n",
       "      <td>0</td>\n",
       "      <td></td>\n",
       "    </tr>\n",
       "    <tr>\n",
       "      <th>7</th>\n",
       "      <td>8</td>\n",
       "      <td>H</td>\n",
       "      <td>H</td>\n",
       "      <td>2</td>\n",
       "      <td>ALA</td>\n",
       "      <td>0</td>\n",
       "      <td></td>\n",
       "    </tr>\n",
       "    <tr>\n",
       "      <th>8</th>\n",
       "      <td>9</td>\n",
       "      <td>CA</td>\n",
       "      <td>C</td>\n",
       "      <td>2</td>\n",
       "      <td>ALA</td>\n",
       "      <td>0</td>\n",
       "      <td></td>\n",
       "    </tr>\n",
       "    <tr>\n",
       "      <th>9</th>\n",
       "      <td>10</td>\n",
       "      <td>HA</td>\n",
       "      <td>H</td>\n",
       "      <td>2</td>\n",
       "      <td>ALA</td>\n",
       "      <td>0</td>\n",
       "      <td></td>\n",
       "    </tr>\n",
       "    <tr>\n",
       "      <th>10</th>\n",
       "      <td>11</td>\n",
       "      <td>CB</td>\n",
       "      <td>C</td>\n",
       "      <td>2</td>\n",
       "      <td>ALA</td>\n",
       "      <td>0</td>\n",
       "      <td></td>\n",
       "    </tr>\n",
       "    <tr>\n",
       "      <th>11</th>\n",
       "      <td>12</td>\n",
       "      <td>HB1</td>\n",
       "      <td>H</td>\n",
       "      <td>2</td>\n",
       "      <td>ALA</td>\n",
       "      <td>0</td>\n",
       "      <td></td>\n",
       "    </tr>\n",
       "    <tr>\n",
       "      <th>12</th>\n",
       "      <td>13</td>\n",
       "      <td>HB2</td>\n",
       "      <td>H</td>\n",
       "      <td>2</td>\n",
       "      <td>ALA</td>\n",
       "      <td>0</td>\n",
       "      <td></td>\n",
       "    </tr>\n",
       "    <tr>\n",
       "      <th>13</th>\n",
       "      <td>14</td>\n",
       "      <td>HB3</td>\n",
       "      <td>H</td>\n",
       "      <td>2</td>\n",
       "      <td>ALA</td>\n",
       "      <td>0</td>\n",
       "      <td></td>\n",
       "    </tr>\n",
       "    <tr>\n",
       "      <th>14</th>\n",
       "      <td>15</td>\n",
       "      <td>C</td>\n",
       "      <td>C</td>\n",
       "      <td>2</td>\n",
       "      <td>ALA</td>\n",
       "      <td>0</td>\n",
       "      <td></td>\n",
       "    </tr>\n",
       "    <tr>\n",
       "      <th>15</th>\n",
       "      <td>16</td>\n",
       "      <td>O</td>\n",
       "      <td>O</td>\n",
       "      <td>2</td>\n",
       "      <td>ALA</td>\n",
       "      <td>0</td>\n",
       "      <td></td>\n",
       "    </tr>\n",
       "    <tr>\n",
       "      <th>16</th>\n",
       "      <td>17</td>\n",
       "      <td>N</td>\n",
       "      <td>N</td>\n",
       "      <td>3</td>\n",
       "      <td>NME</td>\n",
       "      <td>0</td>\n",
       "      <td></td>\n",
       "    </tr>\n",
       "    <tr>\n",
       "      <th>17</th>\n",
       "      <td>18</td>\n",
       "      <td>H</td>\n",
       "      <td>H</td>\n",
       "      <td>3</td>\n",
       "      <td>NME</td>\n",
       "      <td>0</td>\n",
       "      <td></td>\n",
       "    </tr>\n",
       "    <tr>\n",
       "      <th>18</th>\n",
       "      <td>19</td>\n",
       "      <td>C</td>\n",
       "      <td>C</td>\n",
       "      <td>3</td>\n",
       "      <td>NME</td>\n",
       "      <td>0</td>\n",
       "      <td></td>\n",
       "    </tr>\n",
       "    <tr>\n",
       "      <th>19</th>\n",
       "      <td>20</td>\n",
       "      <td>H1</td>\n",
       "      <td>H</td>\n",
       "      <td>3</td>\n",
       "      <td>NME</td>\n",
       "      <td>0</td>\n",
       "      <td></td>\n",
       "    </tr>\n",
       "    <tr>\n",
       "      <th>20</th>\n",
       "      <td>21</td>\n",
       "      <td>H2</td>\n",
       "      <td>H</td>\n",
       "      <td>3</td>\n",
       "      <td>NME</td>\n",
       "      <td>0</td>\n",
       "      <td></td>\n",
       "    </tr>\n",
       "    <tr>\n",
       "      <th>21</th>\n",
       "      <td>22</td>\n",
       "      <td>H3</td>\n",
       "      <td>H</td>\n",
       "      <td>3</td>\n",
       "      <td>NME</td>\n",
       "      <td>0</td>\n",
       "      <td></td>\n",
       "    </tr>\n",
       "  </tbody>\n",
       "</table>\n",
       "</div>"
      ],
      "text/plain": [
       "    serial name element  resSeq resName  chainID segmentID\n",
       "0        1   H1       H       1     ACE        0          \n",
       "1        2  CH3       C       1     ACE        0          \n",
       "2        3   H2       H       1     ACE        0          \n",
       "3        4   H3       H       1     ACE        0          \n",
       "4        5    C       C       1     ACE        0          \n",
       "5        6    O       O       1     ACE        0          \n",
       "6        7    N       N       2     ALA        0          \n",
       "7        8    H       H       2     ALA        0          \n",
       "8        9   CA       C       2     ALA        0          \n",
       "9       10   HA       H       2     ALA        0          \n",
       "10      11   CB       C       2     ALA        0          \n",
       "11      12  HB1       H       2     ALA        0          \n",
       "12      13  HB2       H       2     ALA        0          \n",
       "13      14  HB3       H       2     ALA        0          \n",
       "14      15    C       C       2     ALA        0          \n",
       "15      16    O       O       2     ALA        0          \n",
       "16      17    N       N       3     NME        0          \n",
       "17      18    H       H       3     NME        0          \n",
       "18      19    C       C       3     NME        0          \n",
       "19      20   H1       H       3     NME        0          \n",
       "20      21   H2       H       3     NME        0          \n",
       "21      22   H3       H       3     NME        0          "
      ]
     },
     "execution_count": 25,
     "metadata": {},
     "output_type": "execute_result"
    }
   ],
   "source": [
    "df, _ = top.to_dataframe()\n",
    "df"
   ]
  },
  {
   "cell_type": "code",
   "execution_count": 34,
   "metadata": {
    "collapsed": true
   },
   "outputs": [],
   "source": [
    "dihed = DihedralFeaturizer(sincos=False).partial_transform(traj)\n"
   ]
  },
  {
   "cell_type": "code",
   "execution_count": 38,
   "metadata": {
    "collapsed": false
   },
   "outputs": [
    {
     "data": {
      "text/plain": [
       "[<matplotlib.lines.Line2D at 0x117adbb38>]"
      ]
     },
     "execution_count": 38,
     "metadata": {},
     "output_type": "execute_result"
    },
    {
     "data": {
      "image/png": "[encoded data removed]",
      "text/plain": [
       "<matplotlib.figure.Figure at 0x117a8d780>"
      ]
     },
     "metadata": {},
     "output_type": "display_data"
    }
   ],
   "source": [
    "plt.plot(dihed[:,1], alpha=1)"
   ]
  },
  {
   "cell_type": "code",
   "execution_count": 40,
   "metadata": {
    "collapsed": true
   },
   "outputs": [],
   "source": [
    "np.save('ala-dihed.npy', dihed)"
   ]
  },
  {
   "cell_type": "code",
   "execution_count": null,
   "metadata": {
    "collapsed": true
   },
   "outputs": [],
   "source": []
  }
 ],
 "metadata": {
  "kernelspec": {
   "display_name": "Python 3",
   "language": "python",
   "name": "python3"
  },
  "language_info": {
   "codemirror_mode": {
    "name": "ipython",
    "version": 3
   },
   "file_extension": ".py",
   "mimetype": "text/x-python",
   "name": "python",
   "nbconvert_exporter": "python",
   "pygments_lexer": "ipython3",
   "version": "3.5.2"
  }
 },
 "nbformat": 4,
 "nbformat_minor": 2
}
