{
 "cells": [
  {
   "cell_type": "code",
   "execution_count": 2,
   "metadata": {},
   "outputs": [],
   "source": [
    "import pyemma.coordinates as coor\n",
    "import pyemma.msm as msm\n",
    "import pyemma.plots as mplt"
   ]
  },
  {
   "cell_type": "code",
   "execution_count": 3,
   "metadata": {},
   "outputs": [],
   "source": [
    "import mdtraj as md\n",
    "import seaborn as sns"
   ]
  },
  {
   "cell_type": "markdown",
   "metadata": {},
   "source": [
    "## Make HMM from MSM"
   ]
  },
  {
   "cell_type": "code",
   "execution_count": 4,
   "metadata": {},
   "outputs": [],
   "source": [
    "import matplotlib.pyplot as plt\n",
    "%matplotlib inline\n",
    "import numpy as np\n",
    "import pickle"
   ]
  },
  {
   "cell_type": "code",
   "execution_count": 5,
   "metadata": {},
   "outputs": [],
   "source": [
    "from scipy.stats import skew, kurtosis"
   ]
  },
  {
   "cell_type": "code",
   "execution_count": 6,
   "metadata": {},
   "outputs": [],
   "source": [
    "M = pickle.load(open('Data/Chodera_data/Processed/MSM_lag1.0.pickle', 'rb'))\n",
    "HMM = pickle.load(open('Data/Chodera_data/Processed/HMM_lag1.0.pickle', 'rb'))"
   ]
  },
  {
   "cell_type": "code",
   "execution_count": 7,
   "metadata": {},
   "outputs": [],
   "source": [
    "stat_dist = HMM.stationary_distribution_obs"
   ]
  },
  {
   "cell_type": "code",
   "execution_count": 8,
   "metadata": {},
   "outputs": [
    {
     "name": "stdout",
     "output_type": "stream",
     "text": [
      "(500, 4)\n"
     ]
    }
   ],
   "source": [
    "membership = HMM.metastable_memberships\n",
    "print(membership.shape)\n",
    "n_sets = HMM.nstates"
   ]
  },
  {
   "cell_type": "code",
   "execution_count": 9,
   "metadata": {},
   "outputs": [],
   "source": [
    "free_energy = -np.log(stat_dist)"
   ]
  },
  {
   "cell_type": "code",
   "execution_count": 10,
   "metadata": {},
   "outputs": [],
   "source": [
    "free_energy_by_state = [free_energy*membership[:,i] for i in range(n_sets)]"
   ]
  },
  {
   "cell_type": "code",
   "execution_count": 11,
   "metadata": {
    "scrolled": false
   },
   "outputs": [
    {
     "data": {
      "image/png": "[encoded data removed]",
      "text/plain": [
       "<matplotlib.figure.Figure at 0x119ca9fd0>"
      ]
     },
     "metadata": {},
     "output_type": "display_data"
    }
   ],
   "source": [
    "fig, axes = plt.subplots(n_sets, sharex=True)\n",
    "tol = 1e-7\n",
    "for i, ax in enumerate(axes):\n",
    "    ax.hist(free_energy_by_state[i][np.where(free_energy_by_state[i]>tol)[0]], bins=100)"
   ]
  },
  {
   "cell_type": "code",
   "execution_count": 12,
   "metadata": {},
   "outputs": [],
   "source": [
    "properties = {}\n",
    "properties['mean'] = [np.mean(x) for x in free_energy_by_state]\n",
    "properties['max'] = [np.max(x) for x in free_energy_by_state]\n",
    "properties['std'] = [np.std(x) for x in free_energy_by_state]\n",
    "properties['skew'] = [skew(x) for x in free_energy_by_state]\n",
    "properties['kurtosis'] = [kurtosis(x) for x in free_energy_by_state]"
   ]
  },
  {
   "cell_type": "code",
   "execution_count": 13,
   "metadata": {},
   "outputs": [],
   "source": [
    "from sklearn.preprocessing import MinMaxScaler\n",
    "scaler = MinMaxScaler()\n"
   ]
  },
  {
   "cell_type": "code",
   "execution_count": 14,
   "metadata": {},
   "outputs": [],
   "source": [
    "scaled_properties = {}\n",
    "for k, v in properties.items():\n",
    "    scaled_properties[k] = [x[0] for x in scaler.fit_transform(np.array(v).reshape(-1,1))]"
   ]
  },
  {
   "cell_type": "code",
   "execution_count": 15,
   "metadata": {},
   "outputs": [
    {
     "data": {
      "text/plain": [
       "{'kurtosis': [1.0, 0.3172362704703503, 0.071884341018823822, 0.0],\n",
       " 'max': [0.61377045694355115, 1.0000000000000004, 0.11115892893968748, 0.0],\n",
       " 'mean': [0.0, 0.28823013604086822, 0.52893395478694327, 1.0],\n",
       " 'skew': [1.0, 0.58184841815041322, 0.29821110670879791, 0.0],\n",
       " 'std': [0.0, 1.0, 0.83762593906407989, 0.63476360979821544]}"
      ]
     },
     "execution_count": 15,
     "metadata": {},
     "output_type": "execute_result"
    }
   ],
   "source": [
    "scaled_properties"
   ]
  },
  {
   "cell_type": "code",
   "execution_count": 17,
   "metadata": {},
   "outputs": [],
   "source": [
    "pickle.dump( scaled_properties, open('Data/Chodera_data/Processed/static_properties_01_scale.pickle', 'wb'))"
   ]
  },
  {
   "cell_type": "code",
   "execution_count": 18,
   "metadata": {},
   "outputs": [],
   "source": [
    "scaled_properties = {}\n",
    "for k, v in properties.items():\n",
    "    v = np.abs(v)\n",
    "    scaled_properties[k] = list(np.array(v)/np.max(v))"
   ]
  },
  {
   "cell_type": "code",
   "execution_count": 19,
   "metadata": {},
   "outputs": [],
   "source": [
    "pickle.dump(scaled_properties, open('Data/Chodera_data/Processed/static_properties_max_scale.pickle', 'wb'))"
   ]
  },
  {
   "cell_type": "code",
   "execution_count": 20,
   "metadata": {},
   "outputs": [
    {
     "data": {
      "text/plain": [
       "{'kurtosis': [1.0,\n",
       "  0.21732346763586047,\n",
       "  0.063932242131060593,\n",
       "  0.14633583846540726],\n",
       " 'max': [0.90425199668711653, 1.0, 0.77965238717103702, 0.75209559953602645],\n",
       " 'mean': [0.17946446144978281, 0.41596753135247899, 0.61347356889838356, 1.0],\n",
       " 'skew': [1.0, 0.57089683875937092, 0.2798309376164449, 0.026190453095025348],\n",
       " 'std': [0.66079179198585891, 1.0, 0.94492138576194751, 0.87610881857809908]}"
      ]
     },
     "execution_count": 20,
     "metadata": {},
     "output_type": "execute_result"
    }
   ],
   "source": [
    "scaled_properties"
   ]
  },
  {
   "cell_type": "code",
   "execution_count": null,
   "metadata": {},
   "outputs": [],
   "source": []
  }
 ],
 "metadata": {
  "kernelspec": {
   "display_name": "Python 3",
   "language": "python",
   "name": "python3"
  },
  "language_info": {
   "codemirror_mode": {
    "name": "ipython",
    "version": 3
   },
   "file_extension": ".py",
   "mimetype": "text/x-python",
   "name": "python",
   "nbconvert_exporter": "python",
   "pygments_lexer": "ipython3",
   "version": "3.5.4"
  }
 },
 "nbformat": 4,
 "nbformat_minor": 2
}
