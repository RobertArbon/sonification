{
 "cells": [
  {
   "cell_type": "code",
   "execution_count": 1,
   "metadata": {},
   "outputs": [],
   "source": [
    "import pyemma.coordinates as coor\n",
    "import pyemma.msm as msm\n",
    "import pyemma.plots as mplt"
   ]
  },
  {
   "cell_type": "code",
   "execution_count": 2,
   "metadata": {},
   "outputs": [],
   "source": [
    "import mdtraj as md\n",
    "import seaborn as sns"
   ]
  },
  {
   "cell_type": "markdown",
   "metadata": {},
   "source": [
    "## Make HMM from MSM"
   ]
  },
  {
   "cell_type": "code",
   "execution_count": 3,
   "metadata": {},
   "outputs": [],
   "source": [
    "import matplotlib.pyplot as plt\n",
    "%matplotlib inline\n",
    "import numpy as np\n",
    "import pickle"
   ]
  },
  {
   "cell_type": "code",
   "execution_count": 4,
   "metadata": {},
   "outputs": [],
   "source": [
    "from scipy.stats import skew, kurtosis"
   ]
  },
  {
   "cell_type": "code",
   "execution_count": 5,
   "metadata": {},
   "outputs": [],
   "source": [
    "M = pickle.load(open('Data/Chodera_data/Processed/MSM_lag1.0.pickle', 'rb'))\n",
    "HMM = pickle.load(open('Data/Chodera_data/Processed/HMM_lag1.0.pickle', 'rb'))"
   ]
  },
  {
   "cell_type": "code",
   "execution_count": 6,
   "metadata": {},
   "outputs": [],
   "source": [
    "stat_dist = HMM.stationary_distribution_obs"
   ]
  },
  {
   "cell_type": "code",
   "execution_count": 13,
   "metadata": {},
   "outputs": [
    {
     "name": "stdout",
     "output_type": "stream",
     "text": [
      "(500,)\n"
     ]
    }
   ],
   "source": [
    "membership = HMM.metastable_assignments\n",
    "print(membership.shape)\n",
    "n_sets = HMM.nstates"
   ]
  },
  {
   "cell_type": "code",
   "execution_count": 32,
   "metadata": {},
   "outputs": [],
   "source": [
    "free_energy = -np.log(stat_dist)\n",
    "free_energy = np.abs(np.max(free_energy)-free_energy)"
   ]
  },
  {
   "cell_type": "code",
   "execution_count": 33,
   "metadata": {},
   "outputs": [],
   "source": [
    "stat_dist_by_state = [stat_dist[np.where(membership==i)[0]] for i in range(n_sets)]\n",
    "free_energy_by_state = [free_energy[np.where(membership==i)[0]] for i in range(n_sets)]"
   ]
  },
  {
   "cell_type": "code",
   "execution_count": 34,
   "metadata": {
    "scrolled": false
   },
   "outputs": [
    {
     "data": {
      "image/png": "[encoded data removed]",
      "text/plain": [
       "<matplotlib.figure.Figure at 0x117360f98>"
      ]
     },
     "metadata": {},
     "output_type": "display_data"
    }
   ],
   "source": [
    "fig, axes = plt.subplots(n_sets, sharex=True)\n",
    "tol = 1e-7\n",
    "for i, ax in enumerate(axes):\n",
    "#     ax.hist(free_energy_by_state[i], bins=10)\n",
    "    sns.distplot(stat_dist_by_state[i], ax=ax)"
   ]
  },
  {
   "cell_type": "code",
   "execution_count": 35,
   "metadata": {},
   "outputs": [
    {
     "data": {
      "image/png": "[encoded data removed]",
      "text/plain": [
       "<matplotlib.figure.Figure at 0x1170084e0>"
      ]
     },
     "metadata": {},
     "output_type": "display_data"
    }
   ],
   "source": [
    "fig, axes = plt.subplots(n_sets, sharex=True)\n",
    "tol = 1e-7\n",
    "for i, ax in enumerate(axes):\n",
    "#     ax.hist(free_energy_by_state[i], bins=10)\n",
    "    sns.distplot(free_energy_by_state[i], ax=ax)"
   ]
  },
  {
   "cell_type": "code",
   "execution_count": 36,
   "metadata": {},
   "outputs": [],
   "source": [
    "properties = {}\n",
    "properties['mean'] = [np.mean(x) for x in free_energy_by_state]\n",
    "properties['max'] = [np.max(x) for x in free_energy_by_state]\n",
    "properties['std'] = [np.std(x) for x in free_energy_by_state]\n",
    "properties['skew'] = [skew(x) for x in free_energy_by_state]\n",
    "properties['kurtosis'] = [kurtosis(x) for x in free_energy_by_state]"
   ]
  },
  {
   "cell_type": "code",
   "execution_count": 37,
   "metadata": {},
   "outputs": [
    {
     "data": {
      "text/plain": [
       "{'kurtosis': [0.36622107154810113,\n",
       "  2.6875545353416754,\n",
       "  0.7540433289221093,\n",
       "  2.451736386244396],\n",
       " 'max': [5.389165093913082,\n",
       "  3.2564803865152321,\n",
       "  6.267141438773189,\n",
       "  7.4949406579953024],\n",
       " 'mean': [2.641521732662846,\n",
       "  2.4701679832704619,\n",
       "  5.1600571433475722,\n",
       "  6.6137305877192425],\n",
       " 'skew': [0.19540249659779124,\n",
       "  -1.3696788462249843,\n",
       "  -0.4574843290473749,\n",
       "  -1.2553101419550925],\n",
       " 'std': [1.0197931882292639,\n",
       "  0.61910010010127448,\n",
       "  0.59092368507252779,\n",
       "  0.61845472430611448]}"
      ]
     },
     "execution_count": 37,
     "metadata": {},
     "output_type": "execute_result"
    }
   ],
   "source": [
    "properties"
   ]
  },
  {
   "cell_type": "code",
   "execution_count": 38,
   "metadata": {},
   "outputs": [],
   "source": [
    "from sklearn.preprocessing import MinMaxScaler\n",
    "scaler = MinMaxScaler()\n"
   ]
  },
  {
   "cell_type": "code",
   "execution_count": 39,
   "metadata": {},
   "outputs": [],
   "source": [
    "scaled_properties = {}\n",
    "for k, v in properties.items():\n",
    "    scaled_properties[k] = [x[0] for x in scaler.fit_transform(np.array(v).reshape(-1,1))]"
   ]
  },
  {
   "cell_type": "code",
   "execution_count": 40,
   "metadata": {},
   "outputs": [
    {
     "data": {
      "text/plain": [
       "{'kurtosis': [0.0, 1.0, 0.16706874019737797, 0.89841263533421833],\n",
       " 'max': [0.50317440079557862, 0.0, 0.71031951685762384, 0.99999999999999989],\n",
       " 'mean': [0.041354207900324291, 0.0, 0.64917304668911768, 1.0000000000000002],\n",
       " 'skew': [1.0000000000000002, 0.0, 0.58284160204247182, 0.073075246085048118],\n",
       " 'std': [0.99999999999999978, 0.065699274071369995, 0.0, 0.064194443836509185]}"
      ]
     },
     "execution_count": 40,
     "metadata": {},
     "output_type": "execute_result"
    }
   ],
   "source": [
    "scaled_properties"
   ]
  },
  {
   "cell_type": "code",
   "execution_count": 41,
   "metadata": {},
   "outputs": [],
   "source": [
    "pickle.dump( scaled_properties, open('Data/Chodera_data/Processed/static_properties_01_scale.pickle', 'wb'))"
   ]
  },
  {
   "cell_type": "code",
   "execution_count": 42,
   "metadata": {},
   "outputs": [],
   "source": [
    "scaled_properties = {}\n",
    "for k, v in properties.items():\n",
    "    signs = np.sign(v)\n",
    "    v = np.abs(v)\n",
    "    scaled_v = np.array(v)/np.max(v)\n",
    "    scaled_v = scaled_v*signs\n",
    "    scaled_properties[k] = list(scaled_v)"
   ]
  },
  {
   "cell_type": "code",
   "execution_count": 43,
   "metadata": {},
   "outputs": [],
   "source": [
    "pickle.dump(scaled_properties, open('Data/Chodera_data/Processed/static_properties_max_scale.pickle', 'wb'))"
   ]
  },
  {
   "cell_type": "code",
   "execution_count": 44,
   "metadata": {},
   "outputs": [
    {
     "data": {
      "text/plain": [
       "{'kurtosis': [0.13626554056196763,\n",
       "  1.0,\n",
       "  0.28056856856534296,\n",
       "  0.91225549249466698],\n",
       " 'max': [0.71904039535845243, 0.43449048299553239, 0.83618292989253407, 1.0],\n",
       " 'mean': [0.39939965767093333, 0.37349086880817506, 0.78020371028252422, 1.0],\n",
       " 'skew': [0.142663002452251, -1.0, -0.33400846505606924, -0.91649961990352191],\n",
       " 'std': [1.0, 0.60708397275751569, 0.57945443438251309, 0.60645112307523785]}"
      ]
     },
     "execution_count": 44,
     "metadata": {},
     "output_type": "execute_result"
    }
   ],
   "source": [
    "scaled_properties"
   ]
  },
  {
   "cell_type": "code",
   "execution_count": null,
   "metadata": {},
   "outputs": [],
   "source": []
  },
  {
   "cell_type": "code",
   "execution_count": null,
   "metadata": {},
   "outputs": [],
   "source": []
  },
  {
   "cell_type": "code",
   "execution_count": null,
   "metadata": {},
   "outputs": [],
   "source": []
  },
  {
   "cell_type": "code",
   "execution_count": null,
   "metadata": {},
   "outputs": [],
   "source": []
  }
 ],
 "metadata": {
  "kernelspec": {
   "display_name": "Python 3",
   "language": "python",
   "name": "python3"
  },
  "language_info": {
   "codemirror_mode": {
    "name": "ipython",
    "version": 3
   },
   "file_extension": ".py",
   "mimetype": "text/x-python",
   "name": "python",
   "nbconvert_exporter": "python",
   "pygments_lexer": "ipython3",
   "version": "3.5.4"
  }
 },
 "nbformat": 4,
 "nbformat_minor": 2
}
